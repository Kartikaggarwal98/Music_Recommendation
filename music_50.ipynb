{
 "cells": [
  {
   "cell_type": "code",
   "execution_count": 22,
   "metadata": {
    "collapsed": true
   },
   "outputs": [],
   "source": [
    "import pandas as pd\n",
    "import numpy as np\n",
    "import gensim.models.word2vec as w2v\n",
    "import multiprocessing\n",
    "import os\n",
    "import re\n",
    "import pprint\n",
    "import matplotlib.pyplot as plt\n",
    "import seaborn as sns\n",
    "%matplotlib inline\n",
    "from sklearn.feature_extraction.text import TfidfVectorizer, CountVectorizer\n",
    "import sklearn.manifold"
   ]
  },
  {
   "cell_type": "code",
   "execution_count": 75,
   "metadata": {
    "collapsed": false
   },
   "outputs": [
    {
     "data": {
      "text/html": [
       "<div>\n",
       "<style scoped>\n",
       "    .dataframe tbody tr th:only-of-type {\n",
       "        vertical-align: middle;\n",
       "    }\n",
       "\n",
       "    .dataframe tbody tr th {\n",
       "        vertical-align: top;\n",
       "    }\n",
       "\n",
       "    .dataframe thead th {\n",
       "        text-align: right;\n",
       "    }\n",
       "</style>\n",
       "<table border=\"1\" class=\"dataframe\">\n",
       "  <thead>\n",
       "    <tr style=\"text-align: right;\">\n",
       "      <th></th>\n",
       "      <th>artist</th>\n",
       "      <th>song</th>\n",
       "      <th>link</th>\n",
       "      <th>text</th>\n",
       "    </tr>\n",
       "  </thead>\n",
       "  <tbody>\n",
       "    <tr>\n",
       "      <th>0</th>\n",
       "      <td>ABBA</td>\n",
       "      <td>Ahe's My Kind Of Girl</td>\n",
       "      <td>/a/abba/ahes+my+kind+of+girl_20598417.html</td>\n",
       "      <td>Look at her face, it's a wonderful face  \\nAnd...</td>\n",
       "    </tr>\n",
       "    <tr>\n",
       "      <th>1</th>\n",
       "      <td>ABBA</td>\n",
       "      <td>Andante, Andante</td>\n",
       "      <td>/a/abba/andante+andante_20002708.html</td>\n",
       "      <td>Take it easy with me, please  \\nTouch me gentl...</td>\n",
       "    </tr>\n",
       "    <tr>\n",
       "      <th>2</th>\n",
       "      <td>ABBA</td>\n",
       "      <td>As Good As New</td>\n",
       "      <td>/a/abba/as+good+as+new_20003033.html</td>\n",
       "      <td>I'll never know why I had to go  \\nWhy I had t...</td>\n",
       "    </tr>\n",
       "    <tr>\n",
       "      <th>3</th>\n",
       "      <td>ABBA</td>\n",
       "      <td>Bang</td>\n",
       "      <td>/a/abba/bang_20598415.html</td>\n",
       "      <td>Making somebody happy is a question of give an...</td>\n",
       "    </tr>\n",
       "    <tr>\n",
       "      <th>4</th>\n",
       "      <td>ABBA</td>\n",
       "      <td>Bang-A-Boomerang</td>\n",
       "      <td>/a/abba/bang+a+boomerang_20002668.html</td>\n",
       "      <td>Making somebody happy is a question of give an...</td>\n",
       "    </tr>\n",
       "  </tbody>\n",
       "</table>\n",
       "</div>"
      ],
      "text/plain": [
       "  artist                   song                                        link  \\\n",
       "0   ABBA  Ahe's My Kind Of Girl  /a/abba/ahes+my+kind+of+girl_20598417.html   \n",
       "1   ABBA       Andante, Andante       /a/abba/andante+andante_20002708.html   \n",
       "2   ABBA         As Good As New        /a/abba/as+good+as+new_20003033.html   \n",
       "3   ABBA                   Bang                  /a/abba/bang_20598415.html   \n",
       "4   ABBA       Bang-A-Boomerang      /a/abba/bang+a+boomerang_20002668.html   \n",
       "\n",
       "                                                text  \n",
       "0  Look at her face, it's a wonderful face  \\nAnd...  \n",
       "1  Take it easy with me, please  \\nTouch me gentl...  \n",
       "2  I'll never know why I had to go  \\nWhy I had t...  \n",
       "3  Making somebody happy is a question of give an...  \n",
       "4  Making somebody happy is a question of give an...  "
      ]
     },
     "execution_count": 75,
     "metadata": {},
     "output_type": "execute_result"
    }
   ],
   "source": [
    "songs = pd.read_csv(\"../datasets/songdata.csv\", header=0)\n",
    "#songs.head()\n",
    "songs = songs[songs.artist != 'Lata Mangeshkar']\n",
    "songs.head()"
   ]
  },
  {
   "cell_type": "code",
   "execution_count": 33,
   "metadata": {
    "collapsed": false
   },
   "outputs": [
    {
     "name": "stdout",
     "output_type": "stream",
     "text": [
      "642\n"
     ]
    }
   ],
   "source": [
    "arts_list = songs['artist'].unique()\n",
    "print(len(arts_list))"
   ]
  },
  {
   "cell_type": "code",
   "execution_count": 48,
   "metadata": {
    "collapsed": true
   },
   "outputs": [],
   "source": [
    "my_arts=['The Beatles','Maroon 5','Lana Del Rey','Chris Brown','Green Day','David Guetta','Ellie Goulding','Ed Sheeran']"
   ]
  },
  {
   "cell_type": "code",
   "execution_count": 89,
   "metadata": {
    "collapsed": false
   },
   "outputs": [
    {
     "name": "stdout",
     "output_type": "stream",
     "text": [
      "[178, 110, 113, 145, 174, 63, 77, 53]\n",
      "1023\n"
     ]
    }
   ],
   "source": [
    "text_lenght = [0]*(len(my_arts))                                 # creating the subtable\n",
    "my_lyrics = songs[songs.artist =='Maroon 5']\n",
    "text_lenght[0] = len(my_lyrics)\n",
    "\n",
    "for i in range(0, len(my_arts)):\n",
    "    text_lenght[i]= len(songs[songs['artist']==my_arts[i]]['text'])\n",
    "    my_lyrics = my_lyrics.append(songs[songs.artist ==my_arts[i]])\n",
    "    i+=1\n",
    "\n",
    "print(text_lenght)                               # Number of songs per chosen artist  \n",
    "print(len(my_lyrics))  "
   ]
  },
  {
   "cell_type": "code",
   "execution_count": 90,
   "metadata": {
    "collapsed": false
   },
   "outputs": [
    {
     "data": {
      "text/html": [
       "<div>\n",
       "<style scoped>\n",
       "    .dataframe tbody tr th:only-of-type {\n",
       "        vertical-align: middle;\n",
       "    }\n",
       "\n",
       "    .dataframe tbody tr th {\n",
       "        vertical-align: top;\n",
       "    }\n",
       "\n",
       "    .dataframe thead th {\n",
       "        text-align: right;\n",
       "    }\n",
       "</style>\n",
       "<table border=\"1\" class=\"dataframe\">\n",
       "  <thead>\n",
       "    <tr style=\"text-align: right;\">\n",
       "      <th></th>\n",
       "      <th>artist</th>\n",
       "      <th>song</th>\n",
       "      <th>link</th>\n",
       "      <th>text</th>\n",
       "    </tr>\n",
       "  </thead>\n",
       "  <tbody>\n",
       "    <tr>\n",
       "      <th>12520</th>\n",
       "      <td>Maroon 5</td>\n",
       "      <td>Can't Stop</td>\n",
       "      <td>/m/maroon+5/cant+stop_20419103.html</td>\n",
       "      <td>All alone in my room think of you at a rate th...</td>\n",
       "    </tr>\n",
       "    <tr>\n",
       "      <th>12521</th>\n",
       "      <td>Maroon 5</td>\n",
       "      <td>Harder To Breathe</td>\n",
       "      <td>/m/maroon+5/harder+to+breathe_20089506.html</td>\n",
       "      <td>How dare you say that my behavior is unaccepta...</td>\n",
       "    </tr>\n",
       "    <tr>\n",
       "      <th>12522</th>\n",
       "      <td>Maroon 5</td>\n",
       "      <td>Highway To Hell</td>\n",
       "      <td>/m/maroon+5/highway+to+hell_10175468.html</td>\n",
       "      <td>Living easy, livin' free  \\nSeason ticket, on ...</td>\n",
       "    </tr>\n",
       "    <tr>\n",
       "      <th>12523</th>\n",
       "      <td>Maroon 5</td>\n",
       "      <td>If I Fell</td>\n",
       "      <td>/m/maroon+5/if+i+fell_10175467.html</td>\n",
       "      <td>If I fell in love with you  \\nWould you promis...</td>\n",
       "    </tr>\n",
       "    <tr>\n",
       "      <th>12524</th>\n",
       "      <td>Maroon 5</td>\n",
       "      <td>If You Only Knew</td>\n",
       "      <td>/m/maroon+5/if+you+only+knew_10175490.html</td>\n",
       "      <td>I wake up  \\nThoughts of you  \\nTattooed to my...</td>\n",
       "    </tr>\n",
       "  </tbody>\n",
       "</table>\n",
       "</div>"
      ],
      "text/plain": [
       "         artist               song  \\\n",
       "12520  Maroon 5         Can't Stop   \n",
       "12521  Maroon 5  Harder To Breathe   \n",
       "12522  Maroon 5    Highway To Hell   \n",
       "12523  Maroon 5          If I Fell   \n",
       "12524  Maroon 5   If You Only Knew   \n",
       "\n",
       "                                              link  \\\n",
       "12520          /m/maroon+5/cant+stop_20419103.html   \n",
       "12521  /m/maroon+5/harder+to+breathe_20089506.html   \n",
       "12522    /m/maroon+5/highway+to+hell_10175468.html   \n",
       "12523          /m/maroon+5/if+i+fell_10175467.html   \n",
       "12524   /m/maroon+5/if+you+only+knew_10175490.html   \n",
       "\n",
       "                                                    text  \n",
       "12520  All alone in my room think of you at a rate th...  \n",
       "12521  How dare you say that my behavior is unaccepta...  \n",
       "12522  Living easy, livin' free  \\nSeason ticket, on ...  \n",
       "12523  If I fell in love with you  \\nWould you promis...  \n",
       "12524  I wake up  \\nThoughts of you  \\nTattooed to my...  "
      ]
     },
     "execution_count": 90,
     "metadata": {},
     "output_type": "execute_result"
    },
    {
     "data": {
      "image/png": "[encoded data removed]",
      "text/plain": [
       "<matplotlib.figure.Figure at 0x7f6c6f0cc400>"
      ]
     },
     "metadata": {},
     "output_type": "display_data"
    }
   ],
   "source": [
    "sns.set_context(\"notebook\", font_scale=1.0)\n",
    "sns.set_palette('cubehelix',4)         \n",
    "plt.figure(figsize=(13,3))\n",
    "plt.title('Number of Songs by Artist')\n",
    "g = sns.countplot(my_lyrics['artist'])\n",
    "rotg = g.set_xticklabels(g.get_xticklabels(), rotation=10)                                        \n",
    "my_lyrics.head()"
   ]
  },
  {
   "cell_type": "code",
   "execution_count": 91,
   "metadata": {
    "collapsed": false
   },
   "outputs": [
    {
     "name": "stdout",
     "output_type": "stream",
     "text": [
      "['ABBA' 'Ace Of Base' 'Adam Sandler' 'Adele' 'Aerosmith' 'Air Supply'\n",
      " 'Aiza Seguerra' 'Alabama' 'Alan Parsons Project' 'Aled Jones']\n"
     ]
    }
   ],
   "source": [
    "print(arts_list[:10])"
   ]
  },
  {
   "cell_type": "code",
   "execution_count": 93,
   "metadata": {
    "collapsed": false
   },
   "outputs": [
    {
     "name": "stdout",
     "output_type": "stream",
     "text": [
      "The Beatles has the most favorite words : ['girl', 'wanna', 'don', 'love', 'chorus', 'like', 'baby', 'know', 'cause', 'just', 'got', 'let', 'need', 'ya', 'ain', 'oh', 'yeah', 'gotta', 'want', 'make', 'll', 'body', 'right', 'heart', 'tell', 'say', 'brown', 'way', 'come', 'think', 'time', 'man', 'money', 'bout', 'look', 'bad', 'life', 'gonna', 'hey', 'did'] and the number of unique words in all songs is: 2028\n",
      "Maroon 5 has the most favorite words : ['love', 'wanna', 'let', 'don', 'party', 'got', 'oh', 'dance', 'hear', 'just', 'hey', 'baby', 'yeah', 'make', 'like', 'feel', 'chorus', 'people', 'know', 'world', 'come', 'won', 'll', 'night', 'lights', 've', 'money', 'believe', 'right', 'hands', 'gotta', 'music', 'floor', 'way', 'life', 'bang', 'girl', 'live', 'tonight', 'say'] and the number of unique words in all songs is: 1803\n",
      "Lana Del Rey has the most favorite words : ['ll', 'love', 'oh', 'home', 'just', 'like', 'know', 'let', 'eyes', 'come', 'away', 'hold', 'heart', 'don', 'long', 'feel', 'miss', 'maybe', 'won', 've', 'mind', 'need', 'drunk', 'fall', 'time', 'things', 'life', 'good', 'lover', 'inside', 'knows', 'chorus', 'tell', 'way', 'wanna', 'hand', 'cause', 'falling', 'glass', 'leave'] and the number of unique words in all songs is: 2254\n",
      "Chris Brown has the most favorite words : ['love', 'll', 've', 'don', 'know', 'just', 'oh', 'like', 'lost', 'feel', 'need', 'heart', 'away', 'chorus', 'touch', 'time', 'won', 'make', 'hold', 'let', 'stop', 'baby', 'fall', 'say', 'think', 'life', 'mind', 'got', 'gonna', 'wish', 'home', 'break', 'end', 'stars', 'long', 'night', 'want', 'stay', 'world', 'ah'] and the number of unique words in all songs is: 3251\n",
      "Green Day has the most favorite words : ['don', 'know', 'll', 'want', 'time', 'just', 'like', 've', 'cause', 'away', 'home', 'got', 'think', 'oh', 'love', 'mind', 'let', 'chorus', 'feel', 'wanna', 'hey', 'care', 'life', 'end', 'gonna', 'left', 'say', 'make', 'world', 'lost', 'heart', 'la', 'night', 'come', 'way', 'head', 'right', 'face', 'day', 'going'] and the number of unique words in all songs is: 2937\n",
      "David Guetta has the most favorite words : ['like', 'baby', 'know', 'don', 'love', 'want', 'wanna', 'gonna', 'man', 'oh', 'got', 'say', 'come', 'boy', 'll', 'ooh', 'tell', 'said', 'bad', 'girl', 've', 'way', 'little', 'just', 'life', 'let', 'think', 'make', 'crazy', 'rock', 'night', 'cause', 'god', 'time', 'did', 'uh', 'really', 'going', 'heaven', 'babe'] and the number of unique words in all songs is: 1070\n",
      "Ellie Goulding has the most favorite words : ['don', 'oh', 'yeah', 'know', 'love', 'just', 'cause', 'time', 'say', 'home', 'gonna', 'way', 'want', 'let', 'll', 'like', 'wanna', 'come', 'got', 'away', 'world', 'make', 'think', 'stay', 've', 'things', 'chorus', 'won', 'day', 'baby', 'need', 'look', 'coming', 'leave', 'really', 'bad', 'does', 'did', 'mind', 'eyes'] and the number of unique words in all songs is: 1479\n",
      "Ed Sheeran has the most favorite words : ['love', 'yeah', 'baby', 'got', 'oh', 'don', 'know', 'want', 'll', 'girl', 'come', 've', 'time', 'say', 'day', 'good', 'yes', 'man', 'just', 'little', 'make', 'long', 'ah', 'way', 'like', 'hey', 'tell', 'let', 'honey', 'look', 'said', 'need', 'gonna', 'night', 'true', 'better', 'cause', 'right', 'really', 'leave'] and the number of unique words in all songs is: 1614\n"
     ]
    }
   ],
   "source": [
    "from io import StringIO\n",
    "warray = [['']]*100                   # Picking lists of most favorite words by artist\n",
    "fav_words = [['']]*100\n",
    "word_cnt = [0]*100\n",
    "tfidf = TfidfVectorizer(norm='l2', use_idf=True, smooth_idf=True, stop_words='english')\n",
    "i=0                                                    \n",
    "for artist, sngs in my_lyrics.groupby('artist'):\n",
    "    my_texts = songs[songs['artist']==my_arts[i]]['text']\n",
    "    tfidf.fit_transform(my_texts)\n",
    "    cnt = np.sum(tfidf.transform(sngs['text']).toarray(), axis=0)\n",
    "    warray[i] = tfidf.get_feature_names()\n",
    "    word_cnt[i] = len(warray[i])\n",
    "    sort_freq = np.argsort(cnt.flatten())[::-1]   \n",
    "    fav_words[i] = [tfidf.get_feature_names()[idx] for idx in sort_freq.tolist()[:40]]\n",
    "    print(my_arts[i], \"has the most favorite words :\",fav_words[i],\n",
    "         'and the number of unique words in all songs is:', word_cnt[i])\n",
    "    i+=1 "
   ]
  },
  {
   "cell_type": "code",
   "execution_count": 101,
   "metadata": {
    "collapsed": false
   },
   "outputs": [
    {
     "name": "stdout",
     "output_type": "stream",
     "text": [
      "[178, 110, 113, 145, 174, 63, 77, 53]\n",
      "1023\n",
      "artist                                          The Beatles\n",
      "song                             Got To Get It Into My Life\n",
      "link      /b/beatles/got+to+get+it+into+my+life_20015074...\n",
      "text      I was alone, I took a ride  \\nI didn't know wh...\n",
      "Name: 24743, dtype: object\n"
     ]
    }
   ],
   "source": [
    "print (text_lenght)\n",
    "print (len(my_lyrics))\n",
    "print(my_lyrics.iloc[200])"
   ]
  },
  {
   "cell_type": "code",
   "execution_count": 98,
   "metadata": {
    "collapsed": false
   },
   "outputs": [
    {
     "name": "stdout",
     "output_type": "stream",
     "text": [
      "0 0\n",
      "1 0\n",
      "2 0\n",
      "3 0\n",
      "4 0\n",
      "5 0\n",
      "6 0\n",
      "7 0\n",
      "8 0\n",
      "9 0\n",
      "10 0\n",
      "11 0\n",
      "12 0\n",
      "13 0\n",
      "14 0\n",
      "15 0\n",
      "16 0\n",
      "17 0\n",
      "18 0\n",
      "19 0\n",
      "20 0\n",
      "21 0\n",
      "22 0\n",
      "23 0\n",
      "24 0\n",
      "25 0\n",
      "26 0\n",
      "27 0\n",
      "28 0\n",
      "29 0\n",
      "30 0\n",
      "31 0\n",
      "32 0\n",
      "33 0\n",
      "34 0\n",
      "35 0\n",
      "36 0\n",
      "37 0\n",
      "38 0\n",
      "39 0\n",
      "40 0\n",
      "41 0\n",
      "42 0\n",
      "43 0\n",
      "44 0\n",
      "45 0\n",
      "46 0\n",
      "47 0\n",
      "48 0\n",
      "49 0\n",
      "50 0\n",
      "51 0\n",
      "52 0\n",
      "53 0\n",
      "54 0\n",
      "55 0\n",
      "56 0\n",
      "57 0\n",
      "58 0\n",
      "59 0\n",
      "60 0\n",
      "61 0\n",
      "62 0\n",
      "63 0\n",
      "64 0\n",
      "65 0\n",
      "66 0\n",
      "67 0\n",
      "68 0\n",
      "69 0\n",
      "70 0\n",
      "71 0\n",
      "72 0\n",
      "73 0\n",
      "74 0\n",
      "75 0\n",
      "76 0\n",
      "77 0\n",
      "78 0\n",
      "79 0\n",
      "80 0\n",
      "81 0\n",
      "82 0\n",
      "83 0\n",
      "84 0\n",
      "85 0\n",
      "86 0\n",
      "87 0\n",
      "88 0\n",
      "89 0\n",
      "90 0\n",
      "91 0\n",
      "92 0\n",
      "93 0\n",
      "94 0\n",
      "95 0\n",
      "96 0\n",
      "97 0\n",
      "98 0\n",
      "99 0\n",
      "100 0\n",
      "101 0\n",
      "102 0\n",
      "103 0\n",
      "104 0\n",
      "105 0\n",
      "106 0\n",
      "107 0\n",
      "108 0\n",
      "109 0\n",
      "110 0\n",
      "111 0\n",
      "112 0\n",
      "113 0\n",
      "114 0\n",
      "115 0\n",
      "116 0\n",
      "117 0\n",
      "118 0\n",
      "119 0\n",
      "120 0\n",
      "121 0\n",
      "122 0\n",
      "123 0\n",
      "124 0\n",
      "125 0\n",
      "126 0\n",
      "127 0\n",
      "128 0\n",
      "129 0\n",
      "130 0\n",
      "131 0\n",
      "132 0\n",
      "133 0\n",
      "134 0\n",
      "135 0\n",
      "136 0\n",
      "137 0\n",
      "138 0\n",
      "139 0\n",
      "140 0\n",
      "141 0\n",
      "142 0\n",
      "143 0\n",
      "144 0\n",
      "145 0\n",
      "146 0\n",
      "147 0\n",
      "148 0\n",
      "149 0\n",
      "150 0\n",
      "151 0\n",
      "152 0\n",
      "153 0\n",
      "154 0\n",
      "155 0\n",
      "156 0\n",
      "157 0\n",
      "158 0\n",
      "159 0\n",
      "160 0\n",
      "161 0\n",
      "162 0\n",
      "163 0\n",
      "164 0\n",
      "165 0\n",
      "166 0\n",
      "167 0\n",
      "168 0\n",
      "169 0\n",
      "170 0\n",
      "171 0\n",
      "172 0\n",
      "173 0\n",
      "174 0\n",
      "175 0\n",
      "176 0\n",
      "177 0\n",
      "178 0\n",
      "179 1\n"
     ]
    },
    {
     "ename": "IndexError",
     "evalue": "list index out of range",
     "output_type": "error",
     "traceback": [
      "\u001b[0;31m---------------------------------------------------------------------------\u001b[0m",
      "\u001b[0;31mIndexError\u001b[0m                                Traceback (most recent call last)",
      "\u001b[0;32m<ipython-input-98-0e443299f950>\u001b[0m in \u001b[0;36m<module>\u001b[0;34m()\u001b[0m\n\u001b[1;32m      6\u001b[0m \u001b[0;32mwhile\u001b[0m \u001b[0;34m(\u001b[0m\u001b[0mi\u001b[0m\u001b[0;34m!=\u001b[0m\u001b[0mlen\u001b[0m\u001b[0;34m(\u001b[0m\u001b[0mmy_lyrics\u001b[0m\u001b[0;34m)\u001b[0m\u001b[0;34m)\u001b[0m\u001b[0;34m:\u001b[0m\u001b[0;34m\u001b[0m\u001b[0m\n\u001b[1;32m      7\u001b[0m     \u001b[0mprint\u001b[0m \u001b[0;34m(\u001b[0m\u001b[0mi\u001b[0m\u001b[0;34m,\u001b[0m\u001b[0mj\u001b[0m\u001b[0;34m)\u001b[0m\u001b[0;34m\u001b[0m\u001b[0m\n\u001b[0;32m----> 8\u001b[0;31m     \u001b[0mcomb_texts\u001b[0m\u001b[0;34m[\u001b[0m\u001b[0mj\u001b[0m\u001b[0;34m]\u001b[0m \u001b[0;34m+=\u001b[0m \u001b[0;34m(\u001b[0m\u001b[0mmy_lyrics\u001b[0m\u001b[0;34m.\u001b[0m\u001b[0miloc\u001b[0m\u001b[0;34m[\u001b[0m\u001b[0mi\u001b[0m\u001b[0;34m]\u001b[0m\u001b[0;34m[\u001b[0m\u001b[0;34m'text'\u001b[0m\u001b[0;34m]\u001b[0m\u001b[0;34m)\u001b[0m\u001b[0;34m\u001b[0m\u001b[0m\n\u001b[0m\u001b[1;32m      9\u001b[0m     \u001b[0;32mif\u001b[0m \u001b[0;34m(\u001b[0m\u001b[0mi\u001b[0m \u001b[0;34m==\u001b[0m \u001b[0mtext_lenght\u001b[0m\u001b[0;34m[\u001b[0m\u001b[0mj\u001b[0m\u001b[0;34m]\u001b[0m\u001b[0;34m+\u001b[0m \u001b[0mmn\u001b[0m \u001b[0;34m)\u001b[0m\u001b[0;34m:\u001b[0m\u001b[0;34m\u001b[0m\u001b[0m\n\u001b[1;32m     10\u001b[0m         \u001b[0mmn\u001b[0m\u001b[0;34m+=\u001b[0m\u001b[0mtext_lenght\u001b[0m\u001b[0;34m[\u001b[0m\u001b[0mj\u001b[0m\u001b[0;34m]\u001b[0m\u001b[0;34m\u001b[0m\u001b[0m\n",
      "\u001b[0;31mIndexError\u001b[0m: list index out of range"
     ]
    }
   ],
   "source": [
    "comb_texts = ['']*1            # concatenated texts of all songs by the artist\n",
    "comb_length = [0]*1\n",
    "i=0\n",
    "j=0\n",
    "mn=0\n",
    "while (i!=len(my_lyrics)):\n",
    "    print (i,j)\n",
    "    comb_texts[j] += (my_lyrics.iloc[i]['text'])\n",
    "    if (i == text_lenght[j]+ mn ):\n",
    "        mn+=text_lenght[j]\n",
    "        j+=1\n",
    "    i+=1 \n",
    "for l in range (0,7):\n",
    "    comb_length[l] = len(comb_texts[l])    \n",
    "print(comb_length)    "
   ]
  },
  {
   "cell_type": "code",
   "execution_count": 3,
   "metadata": {
    "collapsed": false
   },
   "outputs": [
    {
     "name": "stdout",
     "output_type": "stream",
     "text": [
      "57618\n"
     ]
    }
   ],
   "source": [
    "text_corpus = []\n",
    "for song in songs['text']:\n",
    "    words = song.lower().split()\n",
    "    text_corpus.append(words)\n",
    "\n",
    "\n",
    "\n",
    "# Dimensionality of the resulting word vectors.\n",
    "#more dimensions, more computationally expensive to train\n",
    "#but also more accurate\n",
    "#more dimensions = more generalized\n",
    "num_features = 50\n",
    "# Minimum word count threshold.\n",
    "min_word_count = 1\n",
    "\n",
    "# Number of threads to run in parallel.\n",
    "#more workers, faster we train\n",
    "num_workers = multiprocessing.cpu_count()\n",
    "\n",
    "# Context window length.\n",
    "context_size = 7\n",
    "\n",
    "\n",
    "downsampling = 1e-1\n",
    "\n",
    "# Seed for the RNG, to make the results reproducible.\n",
    "#random number generator\n",
    "#deterministic, good for debugging\n",
    "seed = 1\n",
    "\n",
    "songs2vec = w2v.Word2Vec(\n",
    "    sg=1,\n",
    "    seed=seed,\n",
    "    workers=num_workers,\n",
    "    size=num_features,\n",
    "    min_count=min_word_count,\n",
    "    window=context_size,\n",
    "    sample=downsampling\n",
    ")\n",
    "\n",
    "songs2vec.build_vocab(text_corpus)\n",
    "print (len(text_corpus))"
   ]
  },
  {
   "cell_type": "code",
   "execution_count": 12,
   "metadata": {
    "collapsed": false
   },
   "outputs": [
    {
     "name": "stdout",
     "output_type": "stream",
     "text": [
      "['look', 'at', 'her', 'face,', \"it's\", 'a', 'wonderful', 'face', 'and', 'it', 'means', 'something', 'special', 'to', 'me', 'look', 'at', 'the', 'way', 'that', 'she', 'smiles', 'when', 'she', 'sees', 'me', 'how', 'lucky', 'can', 'one', 'fellow', 'be?', \"she's\", 'just', 'my', 'kind', 'of', 'girl,', 'she', 'makes', 'me', 'feel', 'fine', 'who', 'could', 'ever', 'believe', 'that', 'she', 'could', 'be', 'mine?', \"she's\", 'just', 'my', 'kind', 'of', 'girl,', 'without', 'her', \"i'm\", 'blue', 'and', 'if', 'she', 'ever', 'leaves', 'me', 'what', 'could', 'i', 'do,', 'what', 'could', 'i', 'do?', 'and', 'when', 'we', 'go', 'for', 'a', 'walk', 'in', 'the', 'park', 'and', 'she', 'holds', 'me', 'and', 'squeezes', 'my', 'hand', \"we'll\", 'go', 'on', 'walking', 'for', 'hours', 'and', 'talking', 'about', 'all', 'the', 'things', 'that', 'we', 'plan', \"she's\", 'just', 'my', 'kind', 'of', 'girl,', 'she', 'makes', 'me', 'feel', 'fine', 'who', 'could', 'ever', 'believe', 'that', 'she', 'could', 'be', 'mine?', \"she's\", 'just', 'my', 'kind', 'of', 'girl,', 'without', 'her', \"i'm\", 'blue', 'and', 'if', 'she', 'ever', 'leaves', 'me', 'what', 'could', 'i', 'do,', 'what', 'could', 'i', 'do?']\n"
     ]
    }
   ],
   "source": [
    "print (text_corpus[0])"
   ]
  },
  {
   "cell_type": "code",
   "execution_count": 14,
   "metadata": {
    "collapsed": false
   },
   "outputs": [],
   "source": [
    "tot_ex= (sum(len(ix) for ix in text_corpus))"
   ]
  },
  {
   "cell_type": "code",
   "execution_count": 27,
   "metadata": {
    "collapsed": false
   },
   "outputs": [
    {
     "name": "stdout",
     "output_type": "stream",
     "text": [
      "--- 180.98715209960938 seconds ---\n"
     ]
    }
   ],
   "source": [
    "import time\n",
    "start_time = time.time()\n",
    "\n",
    "\n",
    "\n",
    "songs2vec.train(text_corpus,total_examples =songs2vec.corpus_count, epochs = songs2vec.iter)\n",
    "\n",
    "if not os.path.exists(\"trained\"):\n",
    "    os.makedirs(\"trained\")\n",
    "\n",
    "songs2vec.save(os.path.join(\"trained\", \"songs2vectors.w2v\"))\n",
    "\n",
    "print(\"--- %s seconds ---\" % (time.time() - start_time))"
   ]
  },
  {
   "cell_type": "code",
   "execution_count": 28,
   "metadata": {
    "collapsed": true
   },
   "outputs": [],
   "source": [
    "songs2vec = w2v.Word2Vec.load(os.path.join(\"trained\", \"songs2vectors.w2v\"))"
   ]
  },
  {
   "cell_type": "code",
   "execution_count": 29,
   "metadata": {
    "collapsed": false
   },
   "outputs": [
    {
     "name": "stdout",
     "output_type": "stream",
     "text": [
      "[ 0.36357963  0.14492922 -0.13141006  0.04157248 -0.31934988  0.34402964\n",
      " -0.05187371 -0.20116128  0.07159739  0.00842176 -0.19197473  0.27373326\n",
      " -0.23446009  0.08384712  0.03460133 -0.19429687 -0.20496611 -0.15931091\n",
      " -0.18649688 -0.04793458 -0.31259686 -0.16131137  0.36541533 -0.01858622\n",
      "  0.26126283 -0.24905561  0.11097184 -0.27640489 -0.08281633  0.09444261\n",
      "  0.05244353 -0.13970432 -0.18462898 -0.59063923  0.23117559 -0.14995064\n",
      "  0.39363873  0.10374349 -0.20914063  0.17596227  0.01373307  0.23624729\n",
      "  0.06064432 -0.02159529 -0.3110829  -0.05837183  0.26023817 -0.00235255\n",
      "  0.07917432  0.17727606]\n"
     ]
    }
   ],
   "source": [
    "print(songs2vec['un-right'])\n",
    "def songVector(row):\n",
    "    vector_sum = 0\n",
    "    words = row.lower().split()\n",
    "    for word in words:\n",
    "        vector_sum = vector_sum + songs2vec[word]\n",
    "    vector_sum = vector_sum.reshape(1,-1)\n",
    "    normalised_vector_sum = sklearn.preprocessing.normalize(vector_sum)\n",
    "    return normalised_vector_sum\n",
    "\n",
    "\n",
    "import time\n",
    "start_time = time.time()\n",
    "\n",
    "songs['song_vector'] = songs['text'].apply(songVector)\n",
    "\n"
   ]
  },
  {
   "cell_type": "code",
   "execution_count": 30,
   "metadata": {
    "collapsed": false
   },
   "outputs": [
    {
     "data": {
      "text/html": [
       "<div>\n",
       "<style scoped>\n",
       "    .dataframe tbody tr th:only-of-type {\n",
       "        vertical-align: middle;\n",
       "    }\n",
       "\n",
       "    .dataframe tbody tr th {\n",
       "        vertical-align: top;\n",
       "    }\n",
       "\n",
       "    .dataframe thead th {\n",
       "        text-align: right;\n",
       "    }\n",
       "</style>\n",
       "<table border=\"1\" class=\"dataframe\">\n",
       "  <thead>\n",
       "    <tr style=\"text-align: right;\">\n",
       "      <th></th>\n",
       "      <th>artist</th>\n",
       "      <th>song</th>\n",
       "      <th>link</th>\n",
       "      <th>text</th>\n",
       "      <th>song_vector</th>\n",
       "    </tr>\n",
       "  </thead>\n",
       "  <tbody>\n",
       "    <tr>\n",
       "      <th>33284</th>\n",
       "      <td>Gary Numan</td>\n",
       "      <td>For The Rest Of My Life</td>\n",
       "      <td>/g/gary+numan/for+the+rest+of+my+life_20982011...</td>\n",
       "      <td>Look around. Do you see?  \\nEverything is fadi...</td>\n",
       "      <td>[[0.156944, 0.236355, -0.0103657, -0.067609, -...</td>\n",
       "    </tr>\n",
       "    <tr>\n",
       "      <th>50057</th>\n",
       "      <td>Ramones</td>\n",
       "      <td>Roots Of Hatred</td>\n",
       "      <td>/r/ramones/roots+of+hatred_20604287.html</td>\n",
       "      <td>I know your everything  \\nWell I know those ta...</td>\n",
       "      <td>[[0.112186, 0.175088, -0.0689293, -0.123626, -...</td>\n",
       "    </tr>\n",
       "    <tr>\n",
       "      <th>54958</th>\n",
       "      <td>Venom</td>\n",
       "      <td>Crucified</td>\n",
       "      <td>/v/venom/crucified_20533732.html</td>\n",
       "      <td>Chain him jail him judge and crucify find him ...</td>\n",
       "      <td>[[0.0399557, 0.187464, -0.0626211, -0.0107353,...</td>\n",
       "    </tr>\n",
       "    <tr>\n",
       "      <th>1833</th>\n",
       "      <td>Boney M.</td>\n",
       "      <td>Zion's Daughter</td>\n",
       "      <td>/b/boney+m/zions+daughter_10045443.html</td>\n",
       "      <td>Zion's daughter, now your heart is full of joy...</td>\n",
       "      <td>[[0.034231, 0.256499, -0.123876, -0.0686313, -...</td>\n",
       "    </tr>\n",
       "    <tr>\n",
       "      <th>11065</th>\n",
       "      <td>Kylie Minogue</td>\n",
       "      <td>Light Years</td>\n",
       "      <td>/k/kylie+minogue/light+years_20080967.html</td>\n",
       "      <td>10, 9, 8, 7, 6, 5, 4, 3, 2, 1  \\nListen can yo...</td>\n",
       "      <td>[[0.0983868, 0.205882, -0.000218662, -0.106616...</td>\n",
       "    </tr>\n",
       "    <tr>\n",
       "      <th>48483</th>\n",
       "      <td>Pink Floyd</td>\n",
       "      <td>Wearing The Inside Out</td>\n",
       "      <td>/p/pink+floyd/wearing+the+inside+out_20108642....</td>\n",
       "      <td>From morning to night I stayed out of sight  \\...</td>\n",
       "      <td>[[0.125876, 0.211832, -0.0734553, -0.0698952, ...</td>\n",
       "    </tr>\n",
       "    <tr>\n",
       "      <th>36058</th>\n",
       "      <td>Hollies</td>\n",
       "      <td>Burn Out</td>\n",
       "      <td>/h/hollies/burn+out_20065572.html</td>\n",
       "      <td>Jimmy's outside with his motor engine hummin' ...</td>\n",
       "      <td>[[0.182893, 0.129759, -0.0283153, -0.107497, -...</td>\n",
       "    </tr>\n",
       "    <tr>\n",
       "      <th>31110</th>\n",
       "      <td>Ellie Goulding</td>\n",
       "      <td>Sleepyhead</td>\n",
       "      <td>/e/ellie+goulding/sleepyhead_20896396.html</td>\n",
       "      <td>And you said  \\nIt was like fire around the br...</td>\n",
       "      <td>[[0.0817404, 0.152254, -0.0762483, -0.051139, ...</td>\n",
       "    </tr>\n",
       "    <tr>\n",
       "      <th>2096</th>\n",
       "      <td>Bryan White</td>\n",
       "      <td>Between Now And Forever</td>\n",
       "      <td>/b/bryan+white/between+now+forever_20025768.html</td>\n",
       "      <td>I can't believe that I've found you  \\nFate di...</td>\n",
       "      <td>[[0.16891, 0.237322, -0.000558105, -0.113921, ...</td>\n",
       "    </tr>\n",
       "    <tr>\n",
       "      <th>45616</th>\n",
       "      <td>Nick Cave</td>\n",
       "      <td>The Kindness Of Strangers</td>\n",
       "      <td>/n/nick+cave/the+kindness+of+strangers_2010005...</td>\n",
       "      <td>They found mary bellows cuffed to the bed  \\nW...</td>\n",
       "      <td>[[0.060987, 0.164872, -0.151446, -0.0506397, -...</td>\n",
       "    </tr>\n",
       "  </tbody>\n",
       "</table>\n",
       "</div>"
      ],
      "text/plain": [
       "               artist                       song  \\\n",
       "33284      Gary Numan    For The Rest Of My Life   \n",
       "50057         Ramones            Roots Of Hatred   \n",
       "54958           Venom                  Crucified   \n",
       "1833         Boney M.            Zion's Daughter   \n",
       "11065   Kylie Minogue                Light Years   \n",
       "48483      Pink Floyd     Wearing The Inside Out   \n",
       "36058         Hollies                   Burn Out   \n",
       "31110  Ellie Goulding                 Sleepyhead   \n",
       "2096      Bryan White    Between Now And Forever   \n",
       "45616       Nick Cave  The Kindness Of Strangers   \n",
       "\n",
       "                                                    link  \\\n",
       "33284  /g/gary+numan/for+the+rest+of+my+life_20982011...   \n",
       "50057           /r/ramones/roots+of+hatred_20604287.html   \n",
       "54958                   /v/venom/crucified_20533732.html   \n",
       "1833             /b/boney+m/zions+daughter_10045443.html   \n",
       "11065         /k/kylie+minogue/light+years_20080967.html   \n",
       "48483  /p/pink+floyd/wearing+the+inside+out_20108642....   \n",
       "36058                  /h/hollies/burn+out_20065572.html   \n",
       "31110         /e/ellie+goulding/sleepyhead_20896396.html   \n",
       "2096    /b/bryan+white/between+now+forever_20025768.html   \n",
       "45616  /n/nick+cave/the+kindness+of+strangers_2010005...   \n",
       "\n",
       "                                                    text  \\\n",
       "33284  Look around. Do you see?  \\nEverything is fadi...   \n",
       "50057  I know your everything  \\nWell I know those ta...   \n",
       "54958  Chain him jail him judge and crucify find him ...   \n",
       "1833   Zion's daughter, now your heart is full of joy...   \n",
       "11065  10, 9, 8, 7, 6, 5, 4, 3, 2, 1  \\nListen can yo...   \n",
       "48483  From morning to night I stayed out of sight  \\...   \n",
       "36058  Jimmy's outside with his motor engine hummin' ...   \n",
       "31110  And you said  \\nIt was like fire around the br...   \n",
       "2096   I can't believe that I've found you  \\nFate di...   \n",
       "45616  They found mary bellows cuffed to the bed  \\nW...   \n",
       "\n",
       "                                             song_vector  \n",
       "33284  [[0.156944, 0.236355, -0.0103657, -0.067609, -...  \n",
       "50057  [[0.112186, 0.175088, -0.0689293, -0.123626, -...  \n",
       "54958  [[0.0399557, 0.187464, -0.0626211, -0.0107353,...  \n",
       "1833   [[0.034231, 0.256499, -0.123876, -0.0686313, -...  \n",
       "11065  [[0.0983868, 0.205882, -0.000218662, -0.106616...  \n",
       "48483  [[0.125876, 0.211832, -0.0734553, -0.0698952, ...  \n",
       "36058  [[0.182893, 0.129759, -0.0283153, -0.107497, -...  \n",
       "31110  [[0.0817404, 0.152254, -0.0762483, -0.051139, ...  \n",
       "2096   [[0.16891, 0.237322, -0.000558105, -0.113921, ...  \n",
       "45616  [[0.060987, 0.164872, -0.151446, -0.0506397, -...  "
      ]
     },
     "execution_count": 30,
     "metadata": {},
     "output_type": "execute_result"
    }
   ],
   "source": [
    "song_vectors = []\n",
    "from sklearn.model_selection import train_test_split\n",
    "\n",
    "train, test = train_test_split(songs, test_size = 0.9)\n",
    "\n",
    "\n",
    "for song_vector in train['song_vector']:\n",
    "    song_vectors.append(song_vector)\n",
    "\n",
    "train.head(10)\n",
    "\n"
   ]
  },
  {
   "cell_type": "code",
   "execution_count": 31,
   "metadata": {
    "collapsed": false
   },
   "outputs": [
    {
     "name": "stdout",
     "output_type": "stream",
     "text": [
      "[t-SNE] Computing 91 nearest neighbors...\n",
      "[t-SNE] Indexed 5761 samples in 0.012s...\n",
      "[t-SNE] Computed neighbors for 5761 samples in 3.310s...\n",
      "[t-SNE] Computed conditional probabilities for sample 1000 / 5761\n",
      "[t-SNE] Computed conditional probabilities for sample 2000 / 5761\n",
      "[t-SNE] Computed conditional probabilities for sample 3000 / 5761\n",
      "[t-SNE] Computed conditional probabilities for sample 4000 / 5761\n",
      "[t-SNE] Computed conditional probabilities for sample 5000 / 5761\n",
      "[t-SNE] Computed conditional probabilities for sample 5761 / 5761\n",
      "[t-SNE] Mean sigma: 0.072915\n",
      "[t-SNE] Computed conditional probabilities in 0.446s\n",
      "[t-SNE] Iteration 50: error = 87.3975906, gradient norm = 0.0344786 (50 iterations in 10.752s)\n",
      "[t-SNE] Iteration 100: error = 87.1440964, gradient norm = 0.0314007 (50 iterations in 8.802s)\n",
      "[t-SNE] Iteration 150: error = 87.1278534, gradient norm = 0.0384258 (50 iterations in 7.659s)\n",
      "[t-SNE] Iteration 200: error = 87.0412064, gradient norm = 0.0157704 (50 iterations in 8.237s)\n",
      "[t-SNE] Iteration 250: error = 86.9826584, gradient norm = 0.0435031 (50 iterations in 7.062s)\n",
      "[t-SNE] KL divergence after 250 iterations with early exaggeration: 86.982658\n",
      "[t-SNE] Error after 251 iterations: 179769313486231570814527423731704356798070567525844996598917476803157260780028538760589558632766878171540458953514382464234321326889464182768467546703537516986049910576551282076245490090389328944075868508455133942304583236903222948165808559332123348274797826204144723168738177180919299881250404026184124858368.000000\n",
      "--- 46.28315043449402 seconds ---\n"
     ]
    }
   ],
   "source": [
    "\n",
    "\n",
    "X = np.array(song_vectors).reshape((5761, 50))\n",
    "\n",
    "start_time = time.time()\n",
    "tsne = sklearn.manifold.TSNE(n_components=2, n_iter=250, random_state=0, verbose=2)\n",
    "\n",
    "all_word_vectors_matrix_2d = tsne.fit_transform(X)\n",
    "\n",
    "print(\"--- %s seconds ---\" % (time.time() - start_time))"
   ]
  },
  {
   "cell_type": "code",
   "execution_count": null,
   "metadata": {
    "collapsed": true
   },
   "outputs": [],
   "source": []
  }
 ],
 "metadata": {
  "kernelspec": {
   "display_name": "Python 3",
   "language": "python",
   "name": "python3"
  },
  "language_info": {
   "codemirror_mode": {
    "name": "ipython",
    "version": 3
   },
   "file_extension": ".py",
   "mimetype": "text/x-python",
   "name": "python",
   "nbconvert_exporter": "python",
   "pygments_lexer": "ipython3",
   "version": "3.6.3"
  }
 },
 "nbformat": 4,
 "nbformat_minor": 2
}
